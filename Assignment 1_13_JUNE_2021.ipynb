{
 "cells": [
  {
   "cell_type": "code",
   "execution_count": null,
   "id": "78834297",
   "metadata": {},
   "outputs": [],
   "source": [
    "1. In the below elements which of them are values or an expression? eg:- values can be integer or string and expressions will be mathematical operators.\n",
    "* \n",
    "'hello'\n",
    "-87.8\n",
    "- \n",
    "/ \n",
    "\n",
    "\n",
    "6 \n",
    "2. What is the difference between string and variable?\n",
    "3. Describe three different data types.\n",
    "4. What is an expression made up of? What do all expressions do?\n",
    "5. This assignment statements, like spam = 10. What is the difference between an expression and a statement?\n",
    "6. After running the following code, what does the variable bacon contain?\n",
    "bacon = 22\n",
    "bacon + 1\n",
    "7. What should the values of the following two terms be?\n",
    "'spam' + 'spamspam'\n",
    "'spam' * 3\n",
    "8. Why is eggs a valid variable name while 100 is invalid?\n",
    "9. What three functions can be used to get the integer, floating-point number, or string version of a value?\n",
    "10. Why does this expression cause an error? How can you fix it?\n",
    "'I have eaten ' + 99 + ' burritos.'\n"
   ]
  },
  {
   "cell_type": "code",
   "execution_count": null,
   "id": "a8dfde5e",
   "metadata": {},
   "outputs": [],
   "source": [
    "------Values are - ‘hello’ , -87.8 , 6\n",
    "-------expressions  are-  *, -, /,+"
   ]
  },
  {
   "cell_type": "code",
   "execution_count": null,
   "id": "aee9f0f2",
   "metadata": {},
   "outputs": [],
   "source": [
    "----string is a collection of characters or numbers enclosed in single or double quotation marks.\n",
    "Variable is something that holds the data or the value which may change, it is like a box which is used for storage\n"
   ]
  },
  {
   "cell_type": "code",
   "execution_count": null,
   "id": "015f0d65",
   "metadata": {},
   "outputs": [],
   "source": [
    "----------\n",
    "Numbers - consists of int and float.\n",
    "ex. 2+5 , 5*8, 10/2.  and 2.2+2.8\n",
    "String- list of characters enclosed in single or double quotation.\n",
    "ex. s1= “abcdefghi”\n",
    "    s2= “sachin”\n",
    "Boolean- True=1 and False=0\n",
    "ex. true+false =1 \n",
    "Complex- 2+5i\n"
   ]
  },
  {
   "cell_type": "code",
   "execution_count": null,
   "id": "0586e95b",
   "metadata": {},
   "outputs": [],
   "source": [
    "----An expression is made up of values, variables and operators and all the expressions should be evaluated\n",
    "to arrive at a result."
   ]
  },
  {
   "cell_type": "code",
   "execution_count": null,
   "id": "15c55bbb",
   "metadata": {},
   "outputs": [],
   "source": [
    "-----Statement is a set of instructions that an interpreter can execute but does not gets the result \n",
    "whereas an expression is evaluated to the result which is usually a value.\n",
    "ex. assignment statement-  a=5\n",
    "ex. if statement, for statement and while statement\n",
    "ex. expression- 5//2\n"
   ]
  },
  {
   "cell_type": "code",
   "execution_count": 3,
   "id": "b4ae248c",
   "metadata": {},
   "outputs": [],
   "source": [
    "---variable bacon will contain 23"
   ]
  },
  {
   "cell_type": "code",
   "execution_count": 4,
   "id": "f8719120",
   "metadata": {},
   "outputs": [],
   "source": [
    "bacon = 22"
   ]
  },
  {
   "cell_type": "code",
   "execution_count": 5,
   "id": "1ca71a2a",
   "metadata": {},
   "outputs": [
    {
     "data": {
      "text/plain": [
       "23"
      ]
     },
     "execution_count": 5,
     "metadata": {},
     "output_type": "execute_result"
    }
   ],
   "source": [
    "bacon + 1"
   ]
  },
  {
   "cell_type": "code",
   "execution_count": null,
   "id": "6ca2f973",
   "metadata": {},
   "outputs": [],
   "source": [
    "------- 'spam' + 'spamspam'=  'spamspamspam'   - is a result of concatenation\n",
    "--- 'spam' * 3 = 'spamspamspam' - is a result of multiplying the string 3 times"
   ]
  },
  {
   "cell_type": "code",
   "execution_count": 6,
   "id": "ec32d198",
   "metadata": {},
   "outputs": [
    {
     "data": {
      "text/plain": [
       "'spamspamspam'"
      ]
     },
     "execution_count": 6,
     "metadata": {},
     "output_type": "execute_result"
    }
   ],
   "source": [
    "'spam' + 'spamspam'"
   ]
  },
  {
   "cell_type": "code",
   "execution_count": 7,
   "id": "896d5b70",
   "metadata": {},
   "outputs": [
    {
     "data": {
      "text/plain": [
       "'spamspamspam'"
      ]
     },
     "execution_count": 7,
     "metadata": {},
     "output_type": "execute_result"
    }
   ],
   "source": [
    "'spam' * 3"
   ]
  },
  {
   "cell_type": "code",
   "execution_count": null,
   "id": "406ba9fd",
   "metadata": {},
   "outputs": [],
   "source": [
    "----Because variable declaration cannot be initiated with number or wild characters, \n",
    "100 being a number will be invalid declaration and eggs,\n",
    "being regular character is correct syntax for declaring the variable."
   ]
  },
  {
   "cell_type": "code",
   "execution_count": 8,
   "id": "7cce9bc9",
   "metadata": {},
   "outputs": [
    {
     "ename": "SyntaxError",
     "evalue": "cannot assign to literal (<ipython-input-8-d27dd77d3b0c>, line 1)",
     "output_type": "error",
     "traceback": [
      "\u001b[1;36m  File \u001b[1;32m\"<ipython-input-8-d27dd77d3b0c>\"\u001b[1;36m, line \u001b[1;32m1\u001b[0m\n\u001b[1;33m    100=1\u001b[0m\n\u001b[1;37m    ^\u001b[0m\n\u001b[1;31mSyntaxError\u001b[0m\u001b[1;31m:\u001b[0m cannot assign to literal\n"
     ]
    }
   ],
   "source": [
    "100=1"
   ]
  },
  {
   "cell_type": "code",
   "execution_count": 9,
   "id": "2bf96468",
   "metadata": {},
   "outputs": [],
   "source": [
    "egg=1"
   ]
  },
  {
   "cell_type": "code",
   "execution_count": null,
   "id": "46f5b7e0",
   "metadata": {},
   "outputs": [],
   "source": [
    "-----\n",
    "int() \n",
    "float()\n",
    "str()\n"
   ]
  },
  {
   "cell_type": "code",
   "execution_count": 10,
   "id": "f3643efb",
   "metadata": {},
   "outputs": [
    {
     "data": {
      "text/plain": [
       "0"
      ]
     },
     "execution_count": 10,
     "metadata": {},
     "output_type": "execute_result"
    }
   ],
   "source": [
    "int()"
   ]
  },
  {
   "cell_type": "code",
   "execution_count": 11,
   "id": "32d75658",
   "metadata": {},
   "outputs": [
    {
     "data": {
      "text/plain": [
       "0.0"
      ]
     },
     "execution_count": 11,
     "metadata": {},
     "output_type": "execute_result"
    }
   ],
   "source": [
    "float()"
   ]
  },
  {
   "cell_type": "code",
   "execution_count": 12,
   "id": "a21fc75f",
   "metadata": {},
   "outputs": [
    {
     "data": {
      "text/plain": [
       "''"
      ]
     },
     "execution_count": 12,
     "metadata": {},
     "output_type": "execute_result"
    }
   ],
   "source": [
    "str()"
   ]
  },
  {
   "cell_type": "code",
   "execution_count": null,
   "id": "b74d9340",
   "metadata": {},
   "outputs": [],
   "source": [
    "--concatenation of string to string is possible and not string to integer.\n",
    "Below is the correct way to fix the error -\n",
    "'I have eaten ' + ‘99’ + ' burritos.'\n"
   ]
  },
  {
   "cell_type": "code",
   "execution_count": 13,
   "id": "d06d7efa",
   "metadata": {},
   "outputs": [
    {
     "data": {
      "text/plain": [
       "'I have eaten 99 burritos.'"
      ]
     },
     "execution_count": 13,
     "metadata": {},
     "output_type": "execute_result"
    }
   ],
   "source": [
    "'I have eaten ' + '99' + ' burritos.'"
   ]
  },
  {
   "cell_type": "code",
   "execution_count": null,
   "id": "e3b10d60",
   "metadata": {},
   "outputs": [],
   "source": []
  }
 ],
 "metadata": {
  "kernelspec": {
   "display_name": "Python 3",
   "language": "python",
   "name": "python3"
  },
  "language_info": {
   "codemirror_mode": {
    "name": "ipython",
    "version": 3
   },
   "file_extension": ".py",
   "mimetype": "text/x-python",
   "name": "python",
   "nbconvert_exporter": "python",
   "pygments_lexer": "ipython3",
   "version": "3.8.8"
  }
 },
 "nbformat": 4,
 "nbformat_minor": 5
}
