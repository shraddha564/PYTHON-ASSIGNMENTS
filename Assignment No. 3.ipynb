{
 "cells": [
  {
   "cell_type": "markdown",
   "id": "8b995b8f",
   "metadata": {},
   "source": [
    "#1. Why are functions advantageous to have in your programs?"
   ]
  },
  {
   "cell_type": "markdown",
   "id": "5c0a1844",
   "metadata": {},
   "source": [
    "A function is a block of code written to perform a specific task . Below listed are few advantages to use the functions in the program :-\n",
    "1.It reduces the number of lines in a code.\n",
    "2.It helps to break our programs into smaller and modular chunks,thereby making the program organised and manageable.\n",
    "3.It avoids repetition and makes the code reusable."
   ]
  },
  {
   "cell_type": "markdown",
   "id": "bcd8be88",
   "metadata": {},
   "source": [
    "2. When does the code in a function run: when it's specified or when it's called?"
   ]
  },
  {
   "cell_type": "code",
   "execution_count": null,
   "id": "e12e481d",
   "metadata": {},
   "outputs": [],
   "source": [
    "To call a function, we need to use function name followed by parantheses."
   ]
  },
  {
   "cell_type": "markdown",
   "id": "c1d8640d",
   "metadata": {},
   "source": [
    "3. What statement creates a function?"
   ]
  },
  {
   "cell_type": "code",
   "execution_count": null,
   "id": "27cebce2",
   "metadata": {},
   "outputs": [],
   "source": [
    "def func_name(parameters):\n",
    "    body of the function\n",
    "                                "
   ]
  },
  {
   "cell_type": "markdown",
   "id": "a89cb80f",
   "metadata": {},
   "source": [
    "4. What is the difference between a function and a function call?"
   ]
  },
  {
   "cell_type": "code",
   "execution_count": null,
   "id": "4c3a1fe2",
   "metadata": {},
   "outputs": [],
   "source": [
    "A function is a block of code written to achieve a particular task and function call is a command to use this\n",
    "function to actually perform that task"
   ]
  },
  {
   "cell_type": "markdown",
   "id": "4fdf5dd7",
   "metadata": {},
   "source": [
    "5.How many global scopes are there in a Python program? How many local scopes?"
   ]
  },
  {
   "cell_type": "markdown",
   "id": "ad8e4c05",
   "metadata": {},
   "source": [
    "There is 1 global scope in python and local scopes can be more than 1"
   ]
  },
  {
   "cell_type": "markdown",
   "id": "3feac74c",
   "metadata": {},
   "source": [
    "6. What happens to variables in a local scope when the function call returns?\n"
   ]
  },
  {
   "cell_type": "code",
   "execution_count": null,
   "id": "976bc7e3",
   "metadata": {},
   "outputs": [],
   "source": [
    "The variables in a local scope will have the final value after the function is executed. Below is the example"
   ]
  },
  {
   "cell_type": "code",
   "execution_count": 4,
   "id": "6cd51621",
   "metadata": {},
   "outputs": [],
   "source": [
    "def func():\n",
    "    v=1\n",
    "    l1=[1,2,3,4,5]\n",
    "    for i in l1:\n",
    "        v=v+i\n",
    "    print(v)"
   ]
  },
  {
   "cell_type": "code",
   "execution_count": 5,
   "id": "7cd62e6b",
   "metadata": {},
   "outputs": [
    {
     "name": "stdout",
     "output_type": "stream",
     "text": [
      "16\n"
     ]
    }
   ],
   "source": [
    "func()"
   ]
  },
  {
   "cell_type": "markdown",
   "id": "32fa6bfd",
   "metadata": {},
   "source": [
    "7.What is the concept of a return value? Is it possible to have a return value in an expression?"
   ]
  },
  {
   "cell_type": "markdown",
   "id": "81fc8368",
   "metadata": {},
   "source": [
    "return value returns the final result that a function performs to the arguments in calling function. Yes it is possible to have a return value in lambda expression which is also called anonymous function."
   ]
  },
  {
   "cell_type": "code",
   "execution_count": 2,
   "id": "362106aa",
   "metadata": {},
   "outputs": [],
   "source": [
    "l2=[2,4,6,8]"
   ]
  },
  {
   "cell_type": "code",
   "execution_count": 3,
   "id": "9f2e4d3e",
   "metadata": {},
   "outputs": [],
   "source": [
    "y=lambda z:z+5"
   ]
  },
  {
   "cell_type": "code",
   "execution_count": 14,
   "id": "6ba871ab",
   "metadata": {},
   "outputs": [
    {
     "data": {
      "text/plain": [
       "<map at 0x4e30400>"
      ]
     },
     "execution_count": 14,
     "metadata": {},
     "output_type": "execute_result"
    }
   ],
   "source": [
    "map(y,l2)"
   ]
  },
  {
   "cell_type": "code",
   "execution_count": 15,
   "id": "9b4f1794",
   "metadata": {},
   "outputs": [
    {
     "data": {
      "text/plain": [
       "[7, 9, 11, 13]"
      ]
     },
     "execution_count": 15,
     "metadata": {},
     "output_type": "execute_result"
    }
   ],
   "source": [
    "list(map(y,l2))"
   ]
  },
  {
   "cell_type": "markdown",
   "id": "cdc621e0",
   "metadata": {},
   "source": [
    "8. If a function does not have a return statement, what is the return value of a call to that function?"
   ]
  },
  {
   "cell_type": "markdown",
   "id": "2f982843",
   "metadata": {},
   "source": [
    "using a return statement in a function depends upon the requirement of that function, if there is no return statement then \n",
    "return value will be \"none\"."
   ]
  },
  {
   "cell_type": "markdown",
   "id": "4ea554bc",
   "metadata": {},
   "source": [
    "9. How do you make a function variable refer to the global variable?"
   ]
  },
  {
   "cell_type": "markdown",
   "id": "595a24b7",
   "metadata": {},
   "source": [
    "By creating variable with same name inside the function as well as outside the function."
   ]
  },
  {
   "cell_type": "markdown",
   "id": "8a0506d0",
   "metadata": {},
   "source": [
    "10. What is the data type of None?"
   ]
  },
  {
   "cell_type": "code",
   "execution_count": 2,
   "id": "b7e9e058",
   "metadata": {},
   "outputs": [],
   "source": [
    "None"
   ]
  },
  {
   "cell_type": "code",
   "execution_count": 3,
   "id": "e056f412",
   "metadata": {},
   "outputs": [
    {
     "data": {
      "text/plain": [
       "NoneType"
      ]
     },
     "execution_count": 3,
     "metadata": {},
     "output_type": "execute_result"
    }
   ],
   "source": [
    "type(None)"
   ]
  },
  {
   "cell_type": "markdown",
   "id": "8c936272",
   "metadata": {},
   "source": [
    "11. What does the sentence import areallyourpetsnamederic do?"
   ]
  },
  {
   "cell_type": "markdown",
   "id": "3a47fb73",
   "metadata": {},
   "source": [
    "import keyword is used to import other modules or packages in the current program"
   ]
  },
  {
   "cell_type": "markdown",
   "id": "f0f8d5ae",
   "metadata": {},
   "source": [
    "12. If you had a bacon() feature in a spam module, what would you call it after importing spam?"
   ]
  },
  {
   "cell_type": "code",
   "execution_count": null,
   "id": "30d4131a",
   "metadata": {},
   "outputs": [],
   "source": [
    "spam.bacon()"
   ]
  },
  {
   "cell_type": "markdown",
   "id": "72707e0f",
   "metadata": {},
   "source": [
    "13. What can you do to save a programme from crashing if it encounters an error?"
   ]
  },
  {
   "cell_type": "markdown",
   "id": "312ac743",
   "metadata": {},
   "source": [
    "Error handling methods can be used."
   ]
  },
  {
   "cell_type": "markdown",
   "id": "0934cfa9",
   "metadata": {},
   "source": [
    "14. What is the purpose of the try clause? What is the purpose of the except clause?"
   ]
  },
  {
   "cell_type": "markdown",
   "id": "06fc85f2",
   "metadata": {},
   "source": [
    "The try and except block in python is used to catch and handle the exceptions/errors.\n",
    "Try clause contains normal part of the code to be executed and the except clause contains response of the\n",
    "program if there are any errors in the preceding try clause.  \n",
    "\n",
    "example given below:"
   ]
  },
  {
   "cell_type": "code",
   "execution_count": 6,
   "id": "3325c542",
   "metadata": {},
   "outputs": [],
   "source": [
    "import math"
   ]
  },
  {
   "cell_type": "code",
   "execution_count": 7,
   "id": "535f9734",
   "metadata": {},
   "outputs": [
    {
     "name": "stdout",
     "output_type": "stream",
     "text": [
      "enter the number to calculate the factorial= 3\n",
      "6\n"
     ]
    }
   ],
   "source": [
    "num=int(input(\"enter the number to calculate the factorial= \"))\n",
    "try:\n",
    "    result=math.factorial(num)\n",
    "    print(result)\n",
    "except:\n",
    "      print(\"factorial of negative number is not possible\")"
   ]
  },
  {
   "cell_type": "code",
   "execution_count": 8,
   "id": "8d13352b",
   "metadata": {},
   "outputs": [
    {
     "name": "stdout",
     "output_type": "stream",
     "text": [
      "enter the number to calculate the factorial= -5\n",
      "factorial of negative number is not possible\n"
     ]
    }
   ],
   "source": [
    "num=int(input(\"enter the number to calculate the factorial= \"))\n",
    "try:\n",
    "    result=math.factorial(num)\n",
    "    print(result)\n",
    "except:\n",
    "      print(\"factorial of negative number is not possible\")"
   ]
  }
 ],
 "metadata": {
  "kernelspec": {
   "display_name": "Python 3",
   "language": "python",
   "name": "python3"
  },
  "language_info": {
   "codemirror_mode": {
    "name": "ipython",
    "version": 3
   },
   "file_extension": ".py",
   "mimetype": "text/x-python",
   "name": "python",
   "nbconvert_exporter": "python",
   "pygments_lexer": "ipython3",
   "version": "3.8.8"
  }
 },
 "nbformat": 4,
 "nbformat_minor": 5
}
